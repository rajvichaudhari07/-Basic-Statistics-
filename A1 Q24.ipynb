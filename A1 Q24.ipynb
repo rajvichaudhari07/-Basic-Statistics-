{
 "cells": [
  {
   "cell_type": "code",
   "execution_count": 1,
   "id": "2d3debf3",
   "metadata": {},
   "outputs": [],
   "source": [
    "from scipy import stats\n",
    "from scipy.stats import norm"
   ]
  },
  {
   "cell_type": "code",
   "execution_count": 2,
   "id": "7fe4452a",
   "metadata": {},
   "outputs": [],
   "source": [
    "# Assume Null Hypothesis is: Ho = Avg life of Bulb >= 260 days"
   ]
  },
  {
   "cell_type": "code",
   "execution_count": 3,
   "id": "0692876f",
   "metadata": {},
   "outputs": [],
   "source": [
    "# Alternate Hypothesis is: Ha = Avg life of Bulb < 260 days"
   ]
  },
  {
   "cell_type": "code",
   "execution_count": 4,
   "id": "12feaa67",
   "metadata": {},
   "outputs": [],
   "source": [
    "# t-scores at x=260; \n",
    "# t=(s_mean-P_mean)/(s_SD/sqrt(n))\n",
    "t= (260-270)/(90/18**0.5)"
   ]
  },
  {
   "cell_type": "code",
   "execution_count": 5,
   "id": "89b4ec28",
   "metadata": {},
   "outputs": [
    {
     "data": {
      "text/plain": [
       "-0.4714045207910317"
      ]
     },
     "execution_count": 5,
     "metadata": {},
     "output_type": "execute_result"
    }
   ],
   "source": [
    "t"
   ]
  },
  {
   "cell_type": "code",
   "execution_count": 6,
   "id": "b88f6ee7",
   "metadata": {},
   "outputs": [],
   "source": [
    "# t-scores at x=260; \n",
    "# t=(s_mean-P_mean)/(s_SD/sqrt(n))\n",
    "t= (260-270)/(90/18**0.5)"
   ]
  },
  {
   "cell_type": "code",
   "execution_count": 7,
   "id": "0fcf7195",
   "metadata": {},
   "outputs": [
    {
     "data": {
      "text/plain": [
       "0.32167411684460556"
      ]
     },
     "execution_count": 7,
     "metadata": {},
     "output_type": "execute_result"
    }
   ],
   "source": [
    "p_value=1-stats.t.cdf(abs(-0.4714),df=17)\n",
    "p_value"
   ]
  },
  {
   "cell_type": "raw",
   "id": "474b5c58",
   "metadata": {},
   "source": [
    "Since p_value > 0.05, we say we failed to reject the null hypothesis. So we can say that the average life of bulb is greater than or equal to 260 days."
   ]
  },
  {
   "cell_type": "code",
   "execution_count": null,
   "id": "eb71eb14",
   "metadata": {},
   "outputs": [],
   "source": []
  }
 ],
 "metadata": {
  "kernelspec": {
   "display_name": "Python 3 (ipykernel)",
   "language": "python",
   "name": "python3"
  },
  "language_info": {
   "codemirror_mode": {
    "name": "ipython",
    "version": 3
   },
   "file_extension": ".py",
   "mimetype": "text/x-python",
   "name": "python",
   "nbconvert_exporter": "python",
   "pygments_lexer": "ipython3",
   "version": "3.9.12"
  }
 },
 "nbformat": 4,
 "nbformat_minor": 5
}
